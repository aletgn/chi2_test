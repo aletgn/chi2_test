{
 "cells": [
  {
   "cell_type": "markdown",
   "id": "f412eeee",
   "metadata": {},
   "source": [
    "# $\\chi^2$ Test of a Normal Distribution"
   ]
  },
  {
   "cell_type": "markdown",
   "id": "9e10a190",
   "metadata": {},
   "source": [
    "## Modules"
   ]
  },
  {
   "cell_type": "markdown",
   "id": "77ae6a27",
   "metadata": {},
   "source": [
    "Let's import a few required modules and functions"
   ]
  },
  {
   "cell_type": "code",
   "execution_count": null,
   "id": "c90a4582",
   "metadata": {},
   "outputs": [],
   "source": [
    "# update path\n",
    "import sys\n",
    "sys.path.append(\"../src/\")"
   ]
  },
  {
   "cell_type": "code",
   "execution_count": null,
   "id": "a4fa0e42",
   "metadata": {},
   "outputs": [],
   "source": [
    "from pygof.chi2_test import build_rv, generate_sample, recompute_histogram, do_chi2_test"
   ]
  },
  {
   "cell_type": "markdown",
   "id": "0a6e90aa",
   "metadata": {},
   "source": [
    "## Generating the data"
   ]
  },
  {
   "cell_type": "markdown",
   "id": "bc455548",
   "metadata": {},
   "source": [
    "We define a standardised Normal random variable whereby we generate a sample onto which we shall perform the $\\chi^2$ test. Since we already known the distribution governing the sample we should be getting just a confirmation! Needless to say, this sample can be replaced with a real sample of a case study."
   ]
  },
  {
   "cell_type": "markdown",
   "id": "def3b5d7",
   "metadata": {},
   "source": [
    "### A few parameters"
   ]
  },
  {
   "cell_type": "code",
   "execution_count": null,
   "id": "2b92dc75",
   "metadata": {},
   "outputs": [],
   "source": [
    "# number of bins\n",
    "num_bins = 50\n",
    "\n",
    "# sample size\n",
    "sample_size = 5000"
   ]
  },
  {
   "cell_type": "markdown",
   "id": "8afc400b",
   "metadata": {},
   "source": [
    "### Random variable\n",
    "\n",
    "`'norm'` in `build_rv` is used to recall the Normal distribution. `lognorm` is available as well."
   ]
  },
  {
   "cell_type": "code",
   "execution_count": null,
   "id": "5adc25ed",
   "metadata": {},
   "outputs": [],
   "source": [
    "# build the ``reference'' random variable\n",
    "rv = build_rv(mu=0, std=1, family='norm')"
   ]
  },
  {
   "cell_type": "markdown",
   "id": "d1d52c0b",
   "metadata": {},
   "source": [
    "### Sampling\n",
    "Let's generate the sample and display the associated histogram of absolute frequencies and relative frequencies. The latter includes the plot of the Normal distribution the sample was generate from"
   ]
  },
  {
   "cell_type": "code",
   "execution_count": null,
   "id": "df8f9c21",
   "metadata": {},
   "outputs": [],
   "source": [
    "x = generate_sample(rv, size = sample_size, n_bins=num_bins, plot=True)\n",
    "\n"
   ]
  },
  {
   "cell_type": "markdown",
   "id": "8c1fb7ed",
   "metadata": {},
   "source": [
    "## Preparing histogram for $\\chi^2$ test\n",
    "\n",
    "This function outputs the original and the merged binning and kindly display the results."
   ]
  },
  {
   "cell_type": "code",
   "execution_count": null,
   "id": "aa5c3ee7",
   "metadata": {},
   "outputs": [],
   "source": [
    "merged_counts, merged_bins = recompute_histogram(x, n_bins=num_bins, th=5, plot=True)"
   ]
  },
  {
   "cell_type": "markdown",
   "id": "09fea556",
   "metadata": {},
   "source": [
    "## $\\chi^2$ test\n",
    "\n",
    "Let's pretend we estimated the parameters of the distribution from the data, so we set `True` in `est_params`."
   ]
  },
  {
   "cell_type": "code",
   "execution_count": null,
   "id": "2d03a739",
   "metadata": {},
   "outputs": [],
   "source": [
    "do_chi2_test(merged_counts, merged_bins, rv, 10, est_params=True)"
   ]
  },
  {
   "cell_type": "markdown",
   "id": "d4becb69",
   "metadata": {},
   "source": [
    "As expected the test succeded!"
   ]
  }
 ],
 "metadata": {
  "kernelspec": {
   "display_name": "Python 3 (ipykernel)",
   "language": "python",
   "name": "python3"
  },
  "language_info": {
   "codemirror_mode": {
    "name": "ipython",
    "version": 3
   },
   "file_extension": ".py",
   "mimetype": "text/x-python",
   "name": "python",
   "nbconvert_exporter": "python",
   "pygments_lexer": "ipython3",
   "version": "3.8.10"
  }
 },
 "nbformat": 4,
 "nbformat_minor": 5
}
